{
 "cells": [
  {
   "cell_type": "code",
   "execution_count": 1,
   "metadata": {},
   "outputs": [],
   "source": [
    "import cv2\n",
    "import numpy as np"
   ]
  },
  {
   "cell_type": "code",
   "execution_count": 2,
   "metadata": {},
   "outputs": [],
   "source": [
    "def imageRotation():\n",
    "    \n",
    "    '''You can perform rotation operation on an image using the warpAffine() method of the imgproc class.'''\n",
    "    '''src − A Mat object representing the source (input image) for this operation.'''\n",
    "    '''dst − A Mat object representing the destination (output image) for this operation.'''\n",
    "    '''rotationMatrix − A Mat object representing the rotation matrix.'''\n",
    "    '''size − A variable of the type integer representing the size of the output image.'''\n",
    "    \n",
    "    img = cv2.imread('A_001.png')\n",
    "    \n",
    "    '''first make a matrix'''\n",
    "    cols = img.shape[1]\n",
    "    rows = img.shape[0]\n",
    "    \n",
    "    '''to define the center of the image, then the master said you should make half of the column and rows'''\n",
    "    \n",
    "    center = (cols/2,rows/2)\n",
    "    \n",
    "    '''90 degrees'''\n",
    "\n",
    "    angle = 90 \n",
    "    \n",
    "    '''Creating the transformation matrix M'''\n",
    "    \n",
    "    M = cv2.getRotationMatrix2D(center,angle,1)\n",
    "    \n",
    "    '''Rotating the given image'''\n",
    "    \n",
    "    rotate = cv2.warpAffine(img,M,(cols,rows))\n",
    "    \n",
    "    cv2.imshow('Rotate',rotate)\n",
    "    cv2.waitKey(0)\n",
    "    cv2.destroyAllWindows()"
   ]
  },
  {
   "cell_type": "code",
   "execution_count": 3,
   "metadata": {},
   "outputs": [],
   "source": [
    "imageRotation()"
   ]
  },
  {
   "cell_type": "code",
   "execution_count": null,
   "metadata": {},
   "outputs": [],
   "source": []
  }
 ],
 "metadata": {
  "kernelspec": {
   "display_name": "Python 3",
   "language": "python",
   "name": "python3"
  },
  "language_info": {
   "codemirror_mode": {
    "name": "ipython",
    "version": 3
   },
   "file_extension": ".py",
   "mimetype": "text/x-python",
   "name": "python",
   "nbconvert_exporter": "python",
   "pygments_lexer": "ipython3",
   "version": "3.7.1"
  }
 },
 "nbformat": 4,
 "nbformat_minor": 4
}
