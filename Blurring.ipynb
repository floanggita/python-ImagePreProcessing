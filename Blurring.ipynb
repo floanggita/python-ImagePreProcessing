{
 "cells": [
  {
   "cell_type": "code",
   "execution_count": 5,
   "metadata": {},
   "outputs": [],
   "source": [
    "import cv2\n",
    "import numpy as np "
   ]
  },
  {
   "cell_type": "code",
   "execution_count": 6,
   "metadata": {},
   "outputs": [],
   "source": [
    "def imageGaussianBlur():\n",
    "    \n",
    "    img = cv2.imread('A_001.png')\n",
    "    \n",
    "    matrix = (7,7)\n",
    "    blur =cv2.GaussianBlur(img,matrix,0)\n",
    "    \n",
    "    cv2.imshow('Blur',blur)\n",
    "    cv2.waitKey(0)\n",
    "    cv2.destroyAllWindows()\n",
    "    \n",
    "def imageMedianBlur(): \n",
    "    \n",
    "    img = cv2.imread('A_001.png')\n",
    "    \n",
    "    kernel = 3\n",
    "    blur =cv2.medianBlur(img,kernel)\n",
    "    \n",
    "    cv2.imshow('Blur',blur)\n",
    "    cv2.waitKey(0)\n",
    "    cv2.destroyAllWindows()\n",
    "    \n",
    "def imageBilateralFilter():\n",
    "    \n",
    "    img = cv2.imread('A_001.png')\n",
    "    \n",
    "    dimensionalpixel =7\n",
    "    color =100\n",
    "    space =100 \n",
    "    filter=cv2.bilateralFilter(img,dimensionalpixel,color,space)\n",
    "    \n",
    "    cv2.imshow('Filtering',filter)\n",
    "    cv2.waitKey(0)\n",
    "    cv2.destroyAllWindows()"
   ]
  },
  {
   "cell_type": "code",
   "execution_count": 7,
   "metadata": {},
   "outputs": [],
   "source": [
    "imageGaussianBlur()"
   ]
  },
  {
   "cell_type": "code",
   "execution_count": 8,
   "metadata": {},
   "outputs": [],
   "source": [
    "imageMedianBlur()"
   ]
  },
  {
   "cell_type": "code",
   "execution_count": 9,
   "metadata": {},
   "outputs": [],
   "source": [
    "imageBilateralFilter()"
   ]
  },
  {
   "cell_type": "code",
   "execution_count": null,
   "metadata": {},
   "outputs": [],
   "source": []
  }
 ],
 "metadata": {
  "kernelspec": {
   "display_name": "Python 3",
   "language": "python",
   "name": "python3"
  },
  "language_info": {
   "codemirror_mode": {
    "name": "ipython",
    "version": 3
   },
   "file_extension": ".py",
   "mimetype": "text/x-python",
   "name": "python",
   "nbconvert_exporter": "python",
   "pygments_lexer": "ipython3",
   "version": "3.7.1"
  }
 },
 "nbformat": 4,
 "nbformat_minor": 4
}
