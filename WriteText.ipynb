{
 "cells": [
  {
   "cell_type": "code",
   "execution_count": 2,
   "metadata": {},
   "outputs": [],
   "source": [
    "import cv2\n",
    "import numpy as np "
   ]
  },
  {
   "cell_type": "code",
   "execution_count": 3,
   "metadata": {},
   "outputs": [],
   "source": [
    "def writeText():\n",
    "    \n",
    "    '''mat − A Mat object representing the image to which the text is to be added.'''\n",
    "    '''text − A string variable of representing the text that is to be added.'''\n",
    "    '''org − A Point object representing the bottom left corner text string in the image.'''\n",
    "    '''fontFace − A variable of the type integer representing the font type.'''\n",
    "    '''fontScale − A variable of the type double representing the scale factor that is multiplied by the font-specific base size.'''\n",
    "    '''scalar − A Scalar object representing the color of the text that is to be added. (BGR)'''\n",
    "    '''thickness − An integer representing the thickness of the line by default, the value of thickness is 1.'''\n",
    "    \n",
    "    pic = np.zeros((500,500,3), dtype='uint8')\n",
    "    font = cv2.FONT_HERSHEY_DUPLEX\n",
    "    cv2.putText(pic, 'Flo',(100,100), font,3,(255,255,255),4,cv2.LINE_8)\n",
    "    \n",
    "    '''putText = method, pic = a blank zeros array, Flo = value of the text/string/text, (100,100) cooridnate'''\n",
    "    '''font = kind of font,3 = size of font, (255,255,255) = scalar of colour, 4 = thickness, cv2.LINE_8 = kind of line on the documentation'''\n",
    "    \n",
    "    cv2.imshow('dark', pic)\n",
    "    cv2.waitKey(0)\n",
    "    cv2.destroyAllWindows()"
   ]
  },
  {
   "cell_type": "code",
   "execution_count": 4,
   "metadata": {},
   "outputs": [],
   "source": [
    "writeText()"
   ]
  },
  {
   "cell_type": "code",
   "execution_count": null,
   "metadata": {},
   "outputs": [],
   "source": []
  }
 ],
 "metadata": {
  "kernelspec": {
   "display_name": "Python 3",
   "language": "python",
   "name": "python3"
  },
  "language_info": {
   "codemirror_mode": {
    "name": "ipython",
    "version": 3
   },
   "file_extension": ".py",
   "mimetype": "text/x-python",
   "name": "python",
   "nbconvert_exporter": "python",
   "pygments_lexer": "ipython3",
   "version": "3.7.1"
  }
 },
 "nbformat": 4,
 "nbformat_minor": 4
}
