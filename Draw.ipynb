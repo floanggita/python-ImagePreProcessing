{
 "cells": [
  {
   "cell_type": "code",
   "execution_count": 1,
   "metadata": {},
   "outputs": [],
   "source": [
    "import cv2\n",
    "import numpy as np"
   ]
  },
  {
   "cell_type": "code",
   "execution_count": 2,
   "metadata": {},
   "outputs": [],
   "source": [
    "def drawRectangle():\n",
    "    \n",
    "    '''mat − A Mat object representing the image on which the rectangle is to be drawn.'''\n",
    "    '''pt1 and pt2 − Two Point objects representing the vertices of the rectangle that is to be drawn.'''\n",
    "    '''scalar − A Scalar object representing the color of the rectangle. (BGR)'''\n",
    "    '''thickness − An integer representing the thickness of the rectangle; by default, the value of thickness is 1.'''\n",
    "    \n",
    "    '''how to create an image and draw a rectangle within it'''\n",
    "    \n",
    "    pic = np.zeros((500,500,3), dtype='uint8')\n",
    "    \n",
    "    '''pic is variable'''\n",
    "    '''np.zeros is method from numpy that use to create numpy arrays that contain only zeros'''\n",
    "    '''define an image how big is it ? then you use (500 x 500) = (500,500)'''\n",
    "    '''you define the channel of the colour too it will be (500,500, 3) 3 is the channel of the colour its contain Red, Green and Blue'''\n",
    "    \n",
    "    '''cause of the range between 0 to 255 then you should define the datatype that is U INT 8 dtype =uint8'''\n",
    "    \n",
    "    cv2.rectangle(pic,(0,0),(500,150),(123,200,98),3, lineType=8, shift=0)\n",
    "    \n",
    "    '''pic = variable of matrix, (0,0) = p1, (500,150) = p2, (123,200,98) = scalar object for colour, 3 thickness of line, shift to resize the rectangle'''\n",
    "    \n",
    "    cv2.imshow('dark', pic)\n",
    "    cv2.waitKey(0)\n",
    "    cv2.destroyAllWindows()"
   ]
  },
  {
   "cell_type": "code",
   "execution_count": 3,
   "metadata": {},
   "outputs": [],
   "source": [
    "drawRectangle()"
   ]
  },
  {
   "cell_type": "code",
   "execution_count": null,
   "metadata": {},
   "outputs": [],
   "source": []
  }
 ],
 "metadata": {
  "kernelspec": {
   "display_name": "Python 3",
   "language": "python",
   "name": "python3"
  },
  "language_info": {
   "codemirror_mode": {
    "name": "ipython",
    "version": 3
   },
   "file_extension": ".py",
   "mimetype": "text/x-python",
   "name": "python",
   "nbconvert_exporter": "python",
   "pygments_lexer": "ipython3",
   "version": "3.7.1"
  }
 },
 "nbformat": 4,
 "nbformat_minor": 4
}
