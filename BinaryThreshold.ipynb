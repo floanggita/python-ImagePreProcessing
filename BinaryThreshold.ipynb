{
 "cells": [
  {
   "cell_type": "code",
   "execution_count": 1,
   "metadata": {},
   "outputs": [],
   "source": [
    "import cv2\n",
    "import numpy as np "
   ]
  },
  {
   "cell_type": "code",
   "execution_count": 2,
   "metadata": {},
   "outputs": [],
   "source": [
    "def imageThresholding():\n",
    "    \n",
    "    '''0 meaning black and 1 meaning black'''\n",
    "    \n",
    "    img = cv2.imread('A_001.png',0)\n",
    "    \n",
    "    cols = img.shape[1]\n",
    "    rows = img.shape[0]\n",
    "    \n",
    "    '''define the pixels value, if pixel value below that range then should turn in zero meaning blac'''\n",
    "    '''if greater than this number then return to white'''\n",
    "    \n",
    "    threshold_value = 100 \n",
    "    \n",
    "    (T_value,binary_threshold) = cv2.threshold(img,threshold_value,255,cv2.THRESH_BINARY)\n",
    "     \n",
    "    '''T Value mean number gonna be return, binary threshold is a function'''\n",
    "    \n",
    "    cv2.imshow('Threshold',binary_threshold)\n",
    "    cv2.waitKey(0)\n",
    "    cv2.destroyAllWindows()"
   ]
  },
  {
   "cell_type": "code",
   "execution_count": 3,
   "metadata": {},
   "outputs": [],
   "source": [
    "imageThresholding()"
   ]
  },
  {
   "cell_type": "code",
   "execution_count": null,
   "metadata": {},
   "outputs": [],
   "source": []
  }
 ],
 "metadata": {
  "kernelspec": {
   "display_name": "Python 3",
   "language": "python",
   "name": "python3"
  },
  "language_info": {
   "codemirror_mode": {
    "name": "ipython",
    "version": 3
   },
   "file_extension": ".py",
   "mimetype": "text/x-python",
   "name": "python",
   "nbconvert_exporter": "python",
   "pygments_lexer": "ipython3",
   "version": "3.7.1"
  }
 },
 "nbformat": 4,
 "nbformat_minor": 4
}
