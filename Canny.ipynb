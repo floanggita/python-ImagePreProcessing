{
 "cells": [
  {
   "cell_type": "code",
   "execution_count": 1,
   "metadata": {},
   "outputs": [],
   "source": [
    "import cv2\n",
    "import numpy as np"
   ]
  },
  {
   "cell_type": "code",
   "execution_count": 2,
   "metadata": {},
   "outputs": [],
   "source": [
    "def imageCannyEdgeDetection():\n",
    "    \n",
    "    img = cv2.imread('A_001.png')\n",
    "    \n",
    "    '''Canny Edge Detection is used to detect the edges in an image. '''\n",
    "    '''It accepts a gray scale image as input and it uses a multistage algorithm.'''\n",
    "    \n",
    "    '''Canny(image, edges, threshold1, threshold2)'''\n",
    "    \n",
    "    '''This method accepts the following parameters −'''\n",
    "\n",
    "    '''image − A Mat object representing the source (input image) for this operation.'''\n",
    "    '''edges − A Mat object representing the destination (edges) for this operation.'''\n",
    "    '''threshold1 − A variable of the type double representing the first threshold for the hysteresis procedure.'''\n",
    "    '''threshold2 − A variable of the type double representing the second threshold for the hysteresis procedure.'''\n",
    "    \n",
    "    threshold1 =300\n",
    "    threshold2 =300\n",
    "    \n",
    "    canny =cv2.Canny(img,threshold1,threshold2)\n",
    "    \n",
    "    cv2.imshow('Canny',canny)\n",
    "    cv2.waitKey(0)\n",
    "    cv2.destroyAllWindows()"
   ]
  },
  {
   "cell_type": "code",
   "execution_count": 3,
   "metadata": {},
   "outputs": [],
   "source": [
    "imageCannyEdgeDetection()"
   ]
  },
  {
   "cell_type": "code",
   "execution_count": null,
   "metadata": {},
   "outputs": [],
   "source": []
  }
 ],
 "metadata": {
  "kernelspec": {
   "display_name": "Python 3",
   "language": "python",
   "name": "python3"
  },
  "language_info": {
   "codemirror_mode": {
    "name": "ipython",
    "version": 3
   },
   "file_extension": ".py",
   "mimetype": "text/x-python",
   "name": "python",
   "nbconvert_exporter": "python",
   "pygments_lexer": "ipython3",
   "version": "3.7.1"
  }
 },
 "nbformat": 4,
 "nbformat_minor": 4
}
