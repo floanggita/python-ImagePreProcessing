{
 "cells": [
  {
   "cell_type": "code",
   "execution_count": 2,
   "metadata": {},
   "outputs": [],
   "source": [
    "import cv2\n",
    "import numpy as np"
   ]
  },
  {
   "cell_type": "code",
   "execution_count": 5,
   "metadata": {},
   "outputs": [],
   "source": [
    "def imageTransform():\n",
    "    \n",
    "    '''Affine Method'''\n",
    "    '''src − A Mat object representing the source (input image) for this operation.'''\n",
    "    '''dst − A Mat object representing the destination (output image) for this operation.'''\n",
    "    '''tranformMatrix − A Mat object representing the transformation matrix.'''\n",
    "    '''size − A variable of the type integer representing the size of the output image.'''\n",
    "    \n",
    "    img = cv2.imread('A_001.png')\n",
    "    \n",
    "    '''first make a matrix'''\n",
    "    cols = img.shape[1]\n",
    "    rows = img.shape[0]\n",
    "    \n",
    "    '''Define the location of the image'''\n",
    "    '''Here we Use matrix 1x 3 , use float for datatype'''\n",
    "    \n",
    "    m = np.float32([[1,0,150],[0,1,70]])\n",
    "    \n",
    "    '''shifted'''\n",
    "    '''Imgproc.warpAffine(src, dst, tranformMatrix, size);'''\n",
    "    \n",
    "    s = cv2.warpAffine(img,m,(cols,rows))\n",
    "    cv2.imshow('shift',s)\n",
    "    cv2.waitKey(0)\n",
    "    cv2.destroyAllWindows()"
   ]
  },
  {
   "cell_type": "code",
   "execution_count": 6,
   "metadata": {},
   "outputs": [],
   "source": [
    "imageTransform()"
   ]
  },
  {
   "cell_type": "code",
   "execution_count": null,
   "metadata": {},
   "outputs": [],
   "source": []
  }
 ],
 "metadata": {
  "kernelspec": {
   "display_name": "Python 3",
   "language": "python",
   "name": "python3"
  },
  "language_info": {
   "codemirror_mode": {
    "name": "ipython",
    "version": 3
   },
   "file_extension": ".py",
   "mimetype": "text/x-python",
   "name": "python",
   "nbconvert_exporter": "python",
   "pygments_lexer": "ipython3",
   "version": "3.7.1"
  }
 },
 "nbformat": 4,
 "nbformat_minor": 4
}
